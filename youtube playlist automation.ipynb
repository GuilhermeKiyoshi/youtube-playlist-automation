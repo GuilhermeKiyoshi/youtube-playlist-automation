{
 "cells": [
  {
   "cell_type": "code",
   "execution_count": 2,
   "id": "baf173a5",
   "metadata": {},
   "outputs": [
    {
     "name": "stdout",
     "output_type": "stream",
     "text": [
      "Requirement already satisfied: pytube in c:\\users\\mazaro\\anaconda3\\lib\\site-packages (12.1.0)\n"
     ]
    }
   ],
   "source": [
    "!pip install pytube"
   ]
  },
  {
   "cell_type": "code",
   "execution_count": 3,
   "id": "124f02af",
   "metadata": {},
   "outputs": [],
   "source": [
    "import pytube"
   ]
  },
  {
   "cell_type": "code",
   "execution_count": 4,
   "id": "ccca670e",
   "metadata": {},
   "outputs": [
    {
     "name": "stdout",
     "output_type": "stream",
     "text": [
      "Digite a URL do vídeo do YouTube: https://www.youtube.com/watch?v=EBbmVRtoXdU\n",
      " O download do yoututbe https://www.youtube.com/watch?v=EBbmVRtoXdU foi realizado com sucesso!!\n"
     ]
    }
   ],
   "source": [
    "link = input(\"Digite a URL do vídeo do YouTube: \")\n",
    "\n",
    "yt = pytube.YouTube(link)\n",
    "\n",
    "yt.streams.first().download()\n",
    "\n",
    "print(f\" O download do yoututbe {link} foi realizado com sucesso!!\")"
   ]
  }
 ],
 "metadata": {
  "kernelspec": {
   "display_name": "Python 3 (ipykernel)",
   "language": "python",
   "name": "python3"
  },
  "language_info": {
   "codemirror_mode": {
    "name": "ipython",
    "version": 3
   },
   "file_extension": ".py",
   "mimetype": "text/x-python",
   "name": "python",
   "nbconvert_exporter": "python",
   "pygments_lexer": "ipython3",
   "version": "3.9.12"
  }
 },
 "nbformat": 4,
 "nbformat_minor": 5
}
